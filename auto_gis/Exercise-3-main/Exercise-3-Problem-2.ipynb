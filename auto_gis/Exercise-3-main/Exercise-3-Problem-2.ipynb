{
 "cells": [
  {
   "cell_type": "markdown",
   "metadata": {
    "deletable": false,
    "editable": false
   },
   "source": [
    "## Problem 2: Create buffers around shopping centers (7 points)\n",
    "\n",
    "Let’s continue with our case study and calculate a 1.5 km buffer around the geocoded points. "
   ]
  },
  {
   "cell_type": "markdown",
   "metadata": {
    "deletable": false,
    "editable": false
   },
   "source": [
    "### a) Load the shopping centre data set (1 point)\n",
    "\n",
    "First, load the shopping centre *point* data set you created in *problem 1* into a `GeoDataFrame` called `shopping_centres`."
   ]
  },
  {
   "cell_type": "code",
   "execution_count": 1,
   "metadata": {},
   "outputs": [],
   "source": [
    "import pathlib\n",
    "import geopandas\n",
    "NOTEBOOK_PATH = pathlib.Path().resolve()\n",
    "shopping_centres = geopandas.read_file(NOTEBOOK_PATH / 'shopping_centres.gpkg')"
   ]
  },
  {
   "cell_type": "markdown",
   "metadata": {
    "deletable": false,
    "editable": false
   },
   "source": [
    "\n",
    "---\n",
    "\n",
    "### b) Create a *buffer* around the points (5 points)\n",
    "\n",
    "Calculate a 1.5 km buffer for each geocoded point. Overwrite the `geometry` column with the new buffer geometry.\n",
    "\n",
    "Use the [`geopandas.GeoDataFrame.buffer()` method](http://geopandas.org/geometric_manipulations.html#GeoSeries.buffer), that uses shapely’s [`buffer()`](http://toblerity.org/shapely/manual.html#object.buffer) in the background. You only need to care about the `distance` parameter, don’t worry about the possible other arguments."
   ]
  },
  {
   "cell_type": "code",
   "execution_count": 2,
   "metadata": {},
   "outputs": [],
   "source": [
    "new_buffer = 1500\n",
    "shopping_centres['geometry'] = shopping_centres.buffer(new_buffer)"
   ]
  },
  {
   "cell_type": "code",
   "execution_count": 3,
   "metadata": {
    "deletable": false,
    "editable": false
   },
   "outputs": [],
   "source": [
    "# NON-EDITABLE CODE CELL FOR TESTING YOUR SOLUTION\n",
    "assert shopping_centres.geometry.geom_type.unique() == [\"Polygon\"]"
   ]
  },
  {
   "cell_type": "markdown",
   "metadata": {
    "deletable": false,
    "editable": false
   },
   "source": [
    "\n",
    "---\n",
    "\n",
    "### d) Save buffer geometry layer (1 point)\n",
    "\n",
    "Save the data frame containing the buffer geometries into a new layer `buffers` inside the same *GeoPackage* `shopping_centres.gpkg`:"
   ]
  },
  {
   "cell_type": "code",
   "execution_count": 4,
   "metadata": {},
   "outputs": [],
   "source": [
    "shopping_centres.to_file('shopping_centres.gpkg', layer='buffers', driver=\"GPKG\")\n"
   ]
  }
 ],
 "metadata": {
  "anaconda-cloud": {},
  "kernelspec": {
   "display_name": "jypenv",
   "language": "python",
   "name": "jypenv"
  },
  "language_info": {
   "codemirror_mode": {
    "name": "ipython",
    "version": 3
   },
   "file_extension": ".py",
   "mimetype": "text/x-python",
   "name": "python",
   "nbconvert_exporter": "python",
   "pygments_lexer": "ipython3",
   "version": "3.10.11"
  }
 },
 "nbformat": 4,
 "nbformat_minor": 4
}
