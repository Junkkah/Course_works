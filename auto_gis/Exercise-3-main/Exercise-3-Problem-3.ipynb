{
 "cells": [
  {
   "cell_type": "markdown",
   "metadata": {
    "deletable": false,
    "editable": false
   },
   "source": [
    "## Problem 3: How many people live near shopping centers? (8 points)\n",
    "\n",
    "In the last step of this analysis, use a *spatial join* to relate data from a population grid data set to the buffer layer created in *problem 2* to find out how many people live in all population grid cells that are **within** 1.5 km distance from each shopping centre. \n",
    "\n",
    "Use the same population grid data set as during [lesson 3](https://autogis-site.readthedocs.io/en/latest/lessons/lesson-3/spatial-join.html) (load it directly from WFS, don’t forget to assign a CRS).\n",
    "\n",
    "\n",
    "*Feel free to divide your solution into more codeblocks than prepared! Remember to add comments to your code :)*"
   ]
  },
  {
   "cell_type": "markdown",
   "metadata": {
    "deletable": false,
    "editable": false
   },
   "source": [
    "### a) Load the population grid data set and the buffer geometries (2 points)\n",
    "\n",
    "Use the same population grid data set as during [lesson 3](https://autogis-site.readthedocs.io/en/latest/lessons/lesson-3/spatial-join.html) (load it directly from WFS, don’t forget to assign a CRS). Load the data into a `GeoDataFrame` called `population_grid`.\n",
    "\n",
    "(optional) If you want, discard unneeded columns and translate the remaining column names from Finnish to English."
   ]
  },
  {
   "cell_type": "code",
   "execution_count": 8,
   "metadata": {},
   "outputs": [],
   "source": [
    "import geopandas\n",
    "import pathlib \n",
    "NOTEBOOK_PATH = pathlib.Path().resolve()\n",
    "population_grid = geopandas.read_file(NOTEBOOK_PATH / 'Vaestotietoruudukko_2020.xml')\n",
    "population_grid.crs = 'EPSG:3879'"
   ]
  },
  {
   "cell_type": "code",
   "execution_count": 9,
   "metadata": {
    "deletable": false,
    "editable": false
   },
   "outputs": [],
   "source": [
    "# NON-EDITABLE CODE CELL FOR TESTING YOUR SOLUTION\n",
    "import geopandas\n",
    "import pyproj\n",
    "\n",
    "assert isinstance(population_grid, geopandas.GeoDataFrame)\n",
    "assert population_grid.crs == pyproj.CRS('EPSG:3879')"
   ]
  },
  {
   "cell_type": "markdown",
   "metadata": {
    "deletable": false,
    "editable": false
   },
   "source": [
    "\n",
    "\n",
    "Load the buffers computed in *problem 2* into a `GeoDataFrame` called `shopping_centre_buffers`. Add an `assert` statement to check whether the two data frames are in the same CRS."
   ]
  },
  {
   "cell_type": "code",
   "execution_count": 17,
   "metadata": {},
   "outputs": [],
   "source": [
    "shopping_centre_buffers = geopandas.read_file(NOTEBOOK_PATH / 'shopping_centres.gpkg', layer='buffers')\n",
    "assert population_grid.crs == pyproj.CRS('EPSG:3879')\n",
    "assert shopping_centre_buffers.crs == pyproj.CRS('EPSG:3879')\n",
    "assert population_grid.crs == shopping_centre_buffers.crs\n"
   ]
  },
  {
   "cell_type": "code",
   "execution_count": 18,
   "metadata": {
    "deletable": false,
    "editable": false
   },
   "outputs": [],
   "source": [
    "# NON-EDITABLE CODE CELL FOR TESTING YOUR SOLUTION\n",
    "assert isinstance(shopping_centre_buffers, geopandas.GeoDataFrame)\n",
    "assert shopping_centre_buffers.geometry.geom_type.unique() == [\"Polygon\"]\n",
    "assert shopping_centre_buffers.crs == pyproj.CRS(\"EPSG:3879\")"
   ]
  },
  {
   "cell_type": "markdown",
   "metadata": {
    "deletable": false,
    "editable": false
   },
   "source": [
    "\n",
    "---\n",
    "\n",
    "### b) Carry out a *spatial join* between the `population_grid` and the `shopping_centre_buffers`  (2 points)\n",
    "\n",
    "Join the shopping centre’s `id` column (and others, if you want) to the population grid data frame, for all population grid cells that are **within** the buffer area of each shopping centre. [Use a *join-type* that retains only rows from both input data frames for which the geometric predicate is true](https://geopandas.org/en/stable/gallery/spatial_joins.html#Types-of-spatial-joins). \n"
   ]
  },
  {
   "cell_type": "code",
   "execution_count": 21,
   "metadata": {},
   "outputs": [
    {
     "data": {
      "text/html": [
       "<div>\n",
       "<style scoped>\n",
       "    .dataframe tbody tr th:only-of-type {\n",
       "        vertical-align: middle;\n",
       "    }\n",
       "\n",
       "    .dataframe tbody tr th {\n",
       "        vertical-align: top;\n",
       "    }\n",
       "\n",
       "    .dataframe thead th {\n",
       "        text-align: right;\n",
       "    }\n",
       "</style>\n",
       "<table border=\"1\" class=\"dataframe\">\n",
       "  <thead>\n",
       "    <tr style=\"text-align: right;\">\n",
       "      <th></th>\n",
       "      <th>gml_id</th>\n",
       "      <th>index</th>\n",
       "      <th>asukkaita</th>\n",
       "      <th>asvaljyys</th>\n",
       "      <th>ika0_9</th>\n",
       "      <th>ika10_19</th>\n",
       "      <th>ika20_29</th>\n",
       "      <th>ika30_39</th>\n",
       "      <th>ika40_49</th>\n",
       "      <th>ika50_59</th>\n",
       "      <th>ika60_69</th>\n",
       "      <th>ika70_79</th>\n",
       "      <th>ika_yli80</th>\n",
       "      <th>geometry</th>\n",
       "      <th>index_right</th>\n",
       "      <th>id</th>\n",
       "      <th>name</th>\n",
       "      <th>addr</th>\n",
       "      <th>address</th>\n",
       "    </tr>\n",
       "  </thead>\n",
       "  <tbody>\n",
       "    <tr>\n",
       "      <th>1147</th>\n",
       "      <td>Vaestotietoruudukko_2020.1148</td>\n",
       "      <td>8371</td>\n",
       "      <td>128</td>\n",
       "      <td>52</td>\n",
       "      <td>15</td>\n",
       "      <td>25</td>\n",
       "      <td>4</td>\n",
       "      <td>7</td>\n",
       "      <td>32</td>\n",
       "      <td>16</td>\n",
       "      <td>19</td>\n",
       "      <td>9</td>\n",
       "      <td>1</td>\n",
       "      <td>POLYGON ((25484250.000 6672499.005, 25484250.0...</td>\n",
       "      <td>2</td>\n",
       "      <td>3</td>\n",
       "      <td>Iso Omena</td>\n",
       "      <td>Piispansilta 11, 02230 Espoo, Finland</td>\n",
       "      <td>Musti ja Mirri, 11, Piispansilta, Matinkylä, S...</td>\n",
       "    </tr>\n",
       "    <tr>\n",
       "      <th>1148</th>\n",
       "      <td>Vaestotietoruudukko_2020.1149</td>\n",
       "      <td>8372</td>\n",
       "      <td>81</td>\n",
       "      <td>57</td>\n",
       "      <td>99</td>\n",
       "      <td>99</td>\n",
       "      <td>99</td>\n",
       "      <td>99</td>\n",
       "      <td>99</td>\n",
       "      <td>99</td>\n",
       "      <td>99</td>\n",
       "      <td>99</td>\n",
       "      <td>99</td>\n",
       "      <td>POLYGON ((25484250.000 6672249.006, 25484250.0...</td>\n",
       "      <td>2</td>\n",
       "      <td>3</td>\n",
       "      <td>Iso Omena</td>\n",
       "      <td>Piispansilta 11, 02230 Espoo, Finland</td>\n",
       "      <td>Musti ja Mirri, 11, Piispansilta, Matinkylä, S...</td>\n",
       "    </tr>\n",
       "    <tr>\n",
       "      <th>1149</th>\n",
       "      <td>Vaestotietoruudukko_2020.1150</td>\n",
       "      <td>8374</td>\n",
       "      <td>20</td>\n",
       "      <td>61</td>\n",
       "      <td>99</td>\n",
       "      <td>99</td>\n",
       "      <td>99</td>\n",
       "      <td>99</td>\n",
       "      <td>99</td>\n",
       "      <td>99</td>\n",
       "      <td>99</td>\n",
       "      <td>99</td>\n",
       "      <td>99</td>\n",
       "      <td>POLYGON ((25484250.000 6671748.997, 25484250.0...</td>\n",
       "      <td>2</td>\n",
       "      <td>3</td>\n",
       "      <td>Iso Omena</td>\n",
       "      <td>Piispansilta 11, 02230 Espoo, Finland</td>\n",
       "      <td>Musti ja Mirri, 11, Piispansilta, Matinkylä, S...</td>\n",
       "    </tr>\n",
       "    <tr>\n",
       "      <th>1211</th>\n",
       "      <td>Vaestotietoruudukko_2020.1212</td>\n",
       "      <td>8532</td>\n",
       "      <td>110</td>\n",
       "      <td>50</td>\n",
       "      <td>14</td>\n",
       "      <td>20</td>\n",
       "      <td>2</td>\n",
       "      <td>10</td>\n",
       "      <td>15</td>\n",
       "      <td>24</td>\n",
       "      <td>7</td>\n",
       "      <td>15</td>\n",
       "      <td>3</td>\n",
       "      <td>POLYGON ((25484499.998 6672749.004, 25484499.9...</td>\n",
       "      <td>2</td>\n",
       "      <td>3</td>\n",
       "      <td>Iso Omena</td>\n",
       "      <td>Piispansilta 11, 02230 Espoo, Finland</td>\n",
       "      <td>Musti ja Mirri, 11, Piispansilta, Matinkylä, S...</td>\n",
       "    </tr>\n",
       "    <tr>\n",
       "      <th>1212</th>\n",
       "      <td>Vaestotietoruudukko_2020.1213</td>\n",
       "      <td>8533</td>\n",
       "      <td>136</td>\n",
       "      <td>53</td>\n",
       "      <td>18</td>\n",
       "      <td>28</td>\n",
       "      <td>7</td>\n",
       "      <td>10</td>\n",
       "      <td>25</td>\n",
       "      <td>21</td>\n",
       "      <td>15</td>\n",
       "      <td>11</td>\n",
       "      <td>1</td>\n",
       "      <td>POLYGON ((25484499.998 6672499.005, 25484499.9...</td>\n",
       "      <td>2</td>\n",
       "      <td>3</td>\n",
       "      <td>Iso Omena</td>\n",
       "      <td>Piispansilta 11, 02230 Espoo, Finland</td>\n",
       "      <td>Musti ja Mirri, 11, Piispansilta, Matinkylä, S...</td>\n",
       "    </tr>\n",
       "  </tbody>\n",
       "</table>\n",
       "</div>"
      ],
      "text/plain": [
       "                             gml_id  index  asukkaita  asvaljyys  ika0_9   \n",
       "1147  Vaestotietoruudukko_2020.1148   8371        128         52      15  \\\n",
       "1148  Vaestotietoruudukko_2020.1149   8372         81         57      99   \n",
       "1149  Vaestotietoruudukko_2020.1150   8374         20         61      99   \n",
       "1211  Vaestotietoruudukko_2020.1212   8532        110         50      14   \n",
       "1212  Vaestotietoruudukko_2020.1213   8533        136         53      18   \n",
       "\n",
       "      ika10_19  ika20_29  ika30_39  ika40_49  ika50_59  ika60_69  ika70_79   \n",
       "1147        25         4         7        32        16        19         9  \\\n",
       "1148        99        99        99        99        99        99        99   \n",
       "1149        99        99        99        99        99        99        99   \n",
       "1211        20         2        10        15        24         7        15   \n",
       "1212        28         7        10        25        21        15        11   \n",
       "\n",
       "      ika_yli80                                           geometry   \n",
       "1147          1  POLYGON ((25484250.000 6672499.005, 25484250.0...  \\\n",
       "1148         99  POLYGON ((25484250.000 6672249.006, 25484250.0...   \n",
       "1149         99  POLYGON ((25484250.000 6671748.997, 25484250.0...   \n",
       "1211          3  POLYGON ((25484499.998 6672749.004, 25484499.9...   \n",
       "1212          1  POLYGON ((25484499.998 6672499.005, 25484499.9...   \n",
       "\n",
       "      index_right  id       name                                   addr   \n",
       "1147            2   3  Iso Omena  Piispansilta 11, 02230 Espoo, Finland  \\\n",
       "1148            2   3  Iso Omena  Piispansilta 11, 02230 Espoo, Finland   \n",
       "1149            2   3  Iso Omena  Piispansilta 11, 02230 Espoo, Finland   \n",
       "1211            2   3  Iso Omena  Piispansilta 11, 02230 Espoo, Finland   \n",
       "1212            2   3  Iso Omena  Piispansilta 11, 02230 Espoo, Finland   \n",
       "\n",
       "                                                address  \n",
       "1147  Musti ja Mirri, 11, Piispansilta, Matinkylä, S...  \n",
       "1148  Musti ja Mirri, 11, Piispansilta, Matinkylä, S...  \n",
       "1149  Musti ja Mirri, 11, Piispansilta, Matinkylä, S...  \n",
       "1211  Musti ja Mirri, 11, Piispansilta, Matinkylä, S...  \n",
       "1212  Musti ja Mirri, 11, Piispansilta, Matinkylä, S...  "
      ]
     },
     "execution_count": 21,
     "metadata": {},
     "output_type": "execute_result"
    }
   ],
   "source": [
    "joint_data = geopandas.sjoin(population_grid, shopping_centre_buffers, how='inner', predicate='within')\n",
    "joint_data.head()\n"
   ]
  },
  {
   "cell_type": "markdown",
   "metadata": {
    "deletable": false,
    "editable": false
   },
   "source": [
    "\n",
    "---\n",
    "\n",
    "### c) Compute the population sum around shopping centres (2 points)\n",
    "\n",
    "Group the resulting (joint) data frame by shopping centre (`id` or `name`), and calculate the `sum()` of the population living inside the 1.5 km radius around them.\n",
    "\n",
    "Print the results, for instance, in the form \"12345 people live within 1.5 km from REDI\"."
   ]
  },
  {
   "cell_type": "code",
   "execution_count": 22,
   "metadata": {},
   "outputs": [
    {
     "name": "stdout",
     "output_type": "stream",
     "text": [
      "19113 people live within 1.5 km from Itis\n",
      "55357 people live within 1.5 km from Forum\n",
      "26848 people live within 1.5 km from Iso Omena\n",
      "23072 people live within 1.5 km from Sello\n",
      "10956 people live within 1.5 km from Jumbo\n",
      "21842 people live within 1.5 km from REDI\n",
      "24394 people live within 1.5 km from Tripla\n"
     ]
    }
   ],
   "source": [
    "population_sum = joint_data.groupby('id')['asukkaita'].sum().reset_index()\n",
    "for _, row in population_sum.iterrows():\n",
    "    shopping_centre_name = shopping_centre_buffers[shopping_centre_buffers['id'] == row['id']]['name'].values[0]\n",
    "    print(f\"{row['asukkaita']} people live within 1.5 km from {shopping_centre_name}\")\n"
   ]
  },
  {
   "cell_type": "markdown",
   "metadata": {
    "deletable": false,
    "editable": false,
    "tags": []
   },
   "source": [
    "\n",
    "---\n",
    "\n",
    "### d) Reflection\n",
    "\n",
    "Good job! You are almost done with this week’s exercise. Please quickly answer the following short questions:\n",
    "    \n",
    "- How challenging did you find problems 1-3 (on scale to 1-5), and why?\n",
    "- What was easy?\n",
    "- What was difficult?\n",
    "\n",
    "Add your answers in a new *Markdown* cell below:"
   ]
  },
  {
   "cell_type": "markdown",
   "metadata": {},
   "source": [
    "I rate the difficulty of these problems as 2 out of 5. Most of the tasks were straightforward and short but also quite interesting. \n",
    "The only issue I encountered was with problem 3(a) related to fetching the grid population data. \n",
    "The method shown in lesson 3 (gpd.read_file(url)) did not work for me. \n",
    "I attempted a workaround using owslib but still couldn't access the WFS. \n",
    "I resolved the issue by manually downloading the required file."
   ]
  }
 ],
 "metadata": {
  "anaconda-cloud": {},
  "kernelspec": {
   "display_name": "jypenv",
   "language": "python",
   "name": "jypenv"
  },
  "language_info": {
   "codemirror_mode": {
    "name": "ipython",
    "version": 3
   },
   "file_extension": ".py",
   "mimetype": "text/x-python",
   "name": "python",
   "nbconvert_exporter": "python",
   "pygments_lexer": "ipython3",
   "version": "3.10.11"
  }
 },
 "nbformat": 4,
 "nbformat_minor": 4
}
